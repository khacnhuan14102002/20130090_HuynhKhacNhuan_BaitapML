{
  "cells": [
    {
      "cell_type": "markdown",
      "metadata": {
        "id": "view-in-github",
        "colab_type": "text"
      },
      "source": [
        "<a href=\"https://colab.research.google.com/github/khacnhuan14102002/20130090_HuynhKhacNhuan_BaitapML/blob/main/Lab_5_20130090_HuynhKhacNhuan.ipynb\" target=\"_parent\"><img src=\"https://colab.research.google.com/assets/colab-badge.svg\" alt=\"Open In Colab\"/></a>"
      ]
    },
    {
      "cell_type": "markdown",
      "metadata": {
        "id": "LMzehe0sy5wr"
      },
      "source": [
        "# This lab is to deal with **SVM** to classification tasks and compare its performance with other competitive algorithms. In general, **SVM** is one of the most popular and widely used supervised machine learning algorithms.\n",
        "\n",
        "*   **Deadline: 23:59, 17/03/2023**\n",
        "\n"
      ]
    },
    {
      "cell_type": "markdown",
      "metadata": {
        "id": "H4nJmxp9zGX4"
      },
      "source": [
        "# Import libraries"
      ]
    },
    {
      "cell_type": "code",
      "execution_count": null,
      "metadata": {
        "id": "DoVWQ8AEyc-C"
      },
      "outputs": [],
      "source": [
        "# code\n",
        "from sklearn import datasets\n",
        "import matplotlib.pyplot as plt\n",
        "import numpy as np\n",
        "import pandas as pd\n",
        "from prettytable import PrettyTable\n",
        "from sklearn import svm\n",
        "from sklearn.model_selection import train_test_split\n",
        "from sklearn import metrics\n",
        "from sklearn.metrics import accuracy_score, precision_score, recall_score, f1_score\n",
        "from sklearn.linear_model import LinearRegression\n",
        "from sklearn import linear_model\n",
        "from sklearn import tree\n",
        "from sklearn.neighbors import KNeighborsClassifier"
      ]
    },
    {
      "cell_type": "code",
      "execution_count": null,
      "metadata": {
        "colab": {
          "base_uri": "https://localhost:8080/"
        },
        "id": "PuLzJc8goH2e",
        "outputId": "6547d596-76b8-4752-df0d-f1d1b9c7f3a2"
      },
      "outputs": [
        {
          "name": "stdout",
          "output_type": "stream",
          "text": [
            "Drive already mounted at /content/gdrive; to attempt to forcibly remount, call drive.mount(\"/content/gdrive\", force_remount=True).\n",
            "/content/gdrive/MyDrive/MachineLearning\n"
          ]
        }
      ],
      "source": [
        "from google.colab import drive\n",
        "drive.mount('/content/gdrive')\n",
        "%cd '/content/gdrive/MyDrive/MachineLearning'"
      ]
    },
    {
      "cell_type": "markdown",
      "metadata": {
        "id": "kNv07ARGzOUm"
      },
      "source": [
        "#Task 1. \n",
        "For breast cancer dataset (https://tinyurl.com/3vme8hr3) which could be loaded from datasets in sklearn as follows:\n",
        "\n",
        "```\n",
        "#Import scikit-learn dataset library\n",
        "from sklearn import datasets\n",
        "\n",
        "#Load dataset\n",
        "cancer = datasets.load_breast_cancer()\n",
        "```\n",
        "\n",
        "*   1.1.\tApply SVM algorithm to above dataset using linear kernel.\n",
        "*   1.2.\tCompare the obtained results with other competitive algorithms (Logistic Regression, Decision Tree, kNN) based on metrics: accuracy, precision, recall, f1 measures.\n",
        "\n"
      ]
    },
    {
      "cell_type": "code",
      "execution_count": null,
      "metadata": {
        "id": "sOsg77IBzEyo"
      },
      "outputs": [],
      "source": [
        "# code\n",
        "cancer = datasets.load_breast_cancer()"
      ]
    },
    {
      "cell_type": "code",
      "execution_count": null,
      "metadata": {
        "id": "h-bFI6IUsaHG"
      },
      "outputs": [],
      "source": [
        "X_train, X_test,y_train, y_test = train_test_split(cancer.data,cancer.target,test_size=0.2,random_state=109)"
      ]
    },
    {
      "cell_type": "code",
      "execution_count": null,
      "metadata": {
        "id": "POj10fw-tf7W"
      },
      "outputs": [],
      "source": [
        "clf = svm.SVC(kernel='linear')"
      ]
    },
    {
      "cell_type": "code",
      "execution_count": null,
      "metadata": {
        "colab": {
          "base_uri": "https://localhost:8080/",
          "height": 75
        },
        "id": "HEI9EcvwvPlv",
        "outputId": "418361e1-56b1-43f4-a3cb-594372716df2"
      },
      "outputs": [
        {
          "data": {
            "text/html": [
              "<style>#sk-container-id-1 {color: black;background-color: white;}#sk-container-id-1 pre{padding: 0;}#sk-container-id-1 div.sk-toggleable {background-color: white;}#sk-container-id-1 label.sk-toggleable__label {cursor: pointer;display: block;width: 100%;margin-bottom: 0;padding: 0.3em;box-sizing: border-box;text-align: center;}#sk-container-id-1 label.sk-toggleable__label-arrow:before {content: \"▸\";float: left;margin-right: 0.25em;color: #696969;}#sk-container-id-1 label.sk-toggleable__label-arrow:hover:before {color: black;}#sk-container-id-1 div.sk-estimator:hover label.sk-toggleable__label-arrow:before {color: black;}#sk-container-id-1 div.sk-toggleable__content {max-height: 0;max-width: 0;overflow: hidden;text-align: left;background-color: #f0f8ff;}#sk-container-id-1 div.sk-toggleable__content pre {margin: 0.2em;color: black;border-radius: 0.25em;background-color: #f0f8ff;}#sk-container-id-1 input.sk-toggleable__control:checked~div.sk-toggleable__content {max-height: 200px;max-width: 100%;overflow: auto;}#sk-container-id-1 input.sk-toggleable__control:checked~label.sk-toggleable__label-arrow:before {content: \"▾\";}#sk-container-id-1 div.sk-estimator input.sk-toggleable__control:checked~label.sk-toggleable__label {background-color: #d4ebff;}#sk-container-id-1 div.sk-label input.sk-toggleable__control:checked~label.sk-toggleable__label {background-color: #d4ebff;}#sk-container-id-1 input.sk-hidden--visually {border: 0;clip: rect(1px 1px 1px 1px);clip: rect(1px, 1px, 1px, 1px);height: 1px;margin: -1px;overflow: hidden;padding: 0;position: absolute;width: 1px;}#sk-container-id-1 div.sk-estimator {font-family: monospace;background-color: #f0f8ff;border: 1px dotted black;border-radius: 0.25em;box-sizing: border-box;margin-bottom: 0.5em;}#sk-container-id-1 div.sk-estimator:hover {background-color: #d4ebff;}#sk-container-id-1 div.sk-parallel-item::after {content: \"\";width: 100%;border-bottom: 1px solid gray;flex-grow: 1;}#sk-container-id-1 div.sk-label:hover label.sk-toggleable__label {background-color: #d4ebff;}#sk-container-id-1 div.sk-serial::before {content: \"\";position: absolute;border-left: 1px solid gray;box-sizing: border-box;top: 0;bottom: 0;left: 50%;z-index: 0;}#sk-container-id-1 div.sk-serial {display: flex;flex-direction: column;align-items: center;background-color: white;padding-right: 0.2em;padding-left: 0.2em;position: relative;}#sk-container-id-1 div.sk-item {position: relative;z-index: 1;}#sk-container-id-1 div.sk-parallel {display: flex;align-items: stretch;justify-content: center;background-color: white;position: relative;}#sk-container-id-1 div.sk-item::before, #sk-container-id-1 div.sk-parallel-item::before {content: \"\";position: absolute;border-left: 1px solid gray;box-sizing: border-box;top: 0;bottom: 0;left: 50%;z-index: -1;}#sk-container-id-1 div.sk-parallel-item {display: flex;flex-direction: column;z-index: 1;position: relative;background-color: white;}#sk-container-id-1 div.sk-parallel-item:first-child::after {align-self: flex-end;width: 50%;}#sk-container-id-1 div.sk-parallel-item:last-child::after {align-self: flex-start;width: 50%;}#sk-container-id-1 div.sk-parallel-item:only-child::after {width: 0;}#sk-container-id-1 div.sk-dashed-wrapped {border: 1px dashed gray;margin: 0 0.4em 0.5em 0.4em;box-sizing: border-box;padding-bottom: 0.4em;background-color: white;}#sk-container-id-1 div.sk-label label {font-family: monospace;font-weight: bold;display: inline-block;line-height: 1.2em;}#sk-container-id-1 div.sk-label-container {text-align: center;}#sk-container-id-1 div.sk-container {/* jupyter's `normalize.less` sets `[hidden] { display: none; }` but bootstrap.min.css set `[hidden] { display: none !important; }` so we also need the `!important` here to be able to override the default hidden behavior on the sphinx rendered scikit-learn.org. See: https://github.com/scikit-learn/scikit-learn/issues/21755 */display: inline-block !important;position: relative;}#sk-container-id-1 div.sk-text-repr-fallback {display: none;}</style><div id=\"sk-container-id-1\" class=\"sk-top-container\"><div class=\"sk-text-repr-fallback\"><pre>SVC(kernel=&#x27;linear&#x27;)</pre><b>In a Jupyter environment, please rerun this cell to show the HTML representation or trust the notebook. <br />On GitHub, the HTML representation is unable to render, please try loading this page with nbviewer.org.</b></div><div class=\"sk-container\" hidden><div class=\"sk-item\"><div class=\"sk-estimator sk-toggleable\"><input class=\"sk-toggleable__control sk-hidden--visually\" id=\"sk-estimator-id-1\" type=\"checkbox\" checked><label for=\"sk-estimator-id-1\" class=\"sk-toggleable__label sk-toggleable__label-arrow\">SVC</label><div class=\"sk-toggleable__content\"><pre>SVC(kernel=&#x27;linear&#x27;)</pre></div></div></div></div></div>"
            ],
            "text/plain": [
              "SVC(kernel='linear')"
            ]
          },
          "execution_count": 7,
          "metadata": {},
          "output_type": "execute_result"
        }
      ],
      "source": [
        "clf.fit(X_train, y_train)"
      ]
    },
    {
      "cell_type": "code",
      "execution_count": null,
      "metadata": {
        "id": "xspiKBOSvpqW"
      },
      "outputs": [],
      "source": [
        "y_pred = clf.predict(X_test)"
      ]
    },
    {
      "cell_type": "code",
      "execution_count": null,
      "metadata": {
        "id": "ponAfGk43tfD"
      },
      "outputs": [],
      "source": [
        "accuracy = accuracy_score(y_test, y_pred)\n",
        "precision = precision_score(y_test, y_pred)\n",
        "recall = recall_score(y_test, y_pred)\n",
        "f1 = f1_score(y_test, y_pred)"
      ]
    },
    {
      "cell_type": "code",
      "execution_count": null,
      "metadata": {
        "id": "LXlUpgRf4FAB"
      },
      "outputs": [],
      "source": [
        "ln = linear_model.LogisticRegression()\n",
        "ln.fit(X_train, y_train)\n",
        "y_ln_pred = ln.predict(X_test)"
      ]
    },
    {
      "cell_type": "code",
      "execution_count": null,
      "metadata": {
        "id": "A_82sKj5MU8K"
      },
      "outputs": [],
      "source": [
        "accuracy_ln = accuracy_score(y_test, y_ln_pred)\n",
        "precision_ln = precision_score(y_test, y_ln_pred)\n",
        "recall_ln = recall_score(y_test, y_ln_pred)\n",
        "f1_ln = f1_score(y_test, y_ln_pred)"
      ]
    },
    {
      "cell_type": "code",
      "execution_count": null,
      "metadata": {
        "id": "hYE_bk6GL_44"
      },
      "outputs": [],
      "source": [
        "tree = tree.DecisionTreeClassifier()\n",
        "tree.fit(X_train, y_train)\n",
        "y_tree_pred = tree.predict(X_test)"
      ]
    },
    {
      "cell_type": "code",
      "execution_count": null,
      "metadata": {
        "id": "A4-VOEhSvz_3"
      },
      "outputs": [],
      "source": [
        "accuracy_tree = accuracy_score(y_test, y_tree_pred)\n",
        "precision_tree = precision_score(y_test, y_tree_pred)\n",
        "recall_tree = recall_score(y_test, y_tree_pred)\n",
        "f1_tree = f1_score(y_test, y_tree_pred)"
      ]
    },
    {
      "cell_type": "code",
      "execution_count": null,
      "metadata": {
        "id": "oqhX4vYB6CLU"
      },
      "outputs": [],
      "source": [
        "knn = KNeighborsClassifier()\n",
        "knn.fit(X_train, y_train)\n",
        "y_knn_pred = knn.predict(X_test)"
      ]
    },
    {
      "cell_type": "code",
      "execution_count": null,
      "metadata": {
        "id": "CivLeBOOMzWt"
      },
      "outputs": [],
      "source": [
        "accuracy_knn = accuracy_score(y_test, y_knn_pred)\n",
        "precision_knn = precision_score(y_test, y_knn_pred)\n",
        "recall_knn = recall_score(y_test, y_knn_pred)\n",
        "f1_knn = f1_score(y_test, y_knn_pred)"
      ]
    },
    {
      "cell_type": "code",
      "execution_count": null,
      "metadata": {
        "id": "yzjPqlAaM2xR"
      },
      "outputs": [],
      "source": [
        "t1 = PrettyTable(['algorithms','accuracy','precision','recall','f1'])"
      ]
    },
    {
      "cell_type": "code",
      "execution_count": null,
      "metadata": {
        "colab": {
          "base_uri": "https://localhost:8080/"
        },
        "id": "ezlB11kCNKD-",
        "outputId": "455ce432-0c7e-4c89-d2d2-ed56d8b9f3bc"
      },
      "outputs": [
        {
          "name": "stdout",
          "output_type": "stream",
          "text": [
            "+---------------------+--------------------+--------------------+--------------------+--------------------+\n",
            "|      algorithms     |      accuracy      |     precision      |       recall       |         f1         |\n",
            "+---------------------+--------------------+--------------------+--------------------+--------------------+\n",
            "|         SVM         | 0.956140350877193  | 0.9859154929577465 | 0.9459459459459459 | 0.9655172413793103 |\n",
            "| Logistic Regression | 0.9385964912280702 | 0.958904109589041  | 0.9459459459459459 | 0.9523809523809523 |\n",
            "|    Decision Tree    | 0.9649122807017544 | 0.972972972972973  | 0.972972972972973  | 0.972972972972973  |\n",
            "|         KNN         | 0.9649122807017544 | 0.9861111111111112 | 0.9594594594594594 | 0.9726027397260274 |\n",
            "+---------------------+--------------------+--------------------+--------------------+--------------------+\n"
          ]
        }
      ],
      "source": [
        "t1.add_row(['SVM',accuracy,precision,recall,f1])\n",
        "t1.add_row(['Logistic Regression',accuracy_ln,precision_ln,recall_ln,f1_ln])\n",
        "t1.add_row(['Decision Tree',accuracy_tree,precision_tree,recall_tree,f1_tree])\n",
        "t1.add_row(['KNN',accuracy_knn,precision_knn,recall_knn,f1_knn])\n",
        "\n",
        "print(t1)"
      ]
    },
    {
      "cell_type": "markdown",
      "metadata": {
        "id": "S43IoUT-0OQq"
      },
      "source": [
        "(#Task 2. \n",
        "\n",
        "*   1.1.\tPerform SVM algorithm to **Iris dataset** using **linear kernel**.\n",
        "*   1.2.\tCompare the obtained results in 1.1 with SVM using other kernels (**Polynomial Kernel, Gaussian Kernel, Sigmoid Kernel, Radial Basis Function Kernel**). Some metrics could be used: accuracy, precision, recall, f1 measures\n",
        "\n",
        "\n",
        "\n"
      ]
    },
    {
      "cell_type": "code",
      "execution_count": null,
      "metadata": {
        "id": "Rl12y3uOvOnn"
      },
      "outputs": [],
      "source": [
        "iris = datasets.load_iris()"
      ]
    },
    {
      "cell_type": "code",
      "execution_count": null,
      "metadata": {
        "id": "utgNyVvSsY_u"
      },
      "outputs": [],
      "source": [
        "X_train2,X_test2,y_train2,y_test2 = train_test_split(iris.data,iris.target,test_size=0.2)"
      ]
    },
    {
      "cell_type": "code",
      "execution_count": null,
      "metadata": {
        "id": "_xhPpF5b033h"
      },
      "outputs": [],
      "source": [
        "# code\n",
        "iriscmv = svm.SVC(kernel='linear')\n"
      ]
    },
    {
      "cell_type": "code",
      "execution_count": null,
      "metadata": {
        "colab": {
          "base_uri": "https://localhost:8080/",
          "height": 75
        },
        "id": "NzSnSth8z7Py",
        "outputId": "56d89a8a-5660-40c0-d2fc-d8e6d0d2865b"
      },
      "outputs": [
        {
          "data": {
            "text/html": [
              "<style>#sk-container-id-2 {color: black;background-color: white;}#sk-container-id-2 pre{padding: 0;}#sk-container-id-2 div.sk-toggleable {background-color: white;}#sk-container-id-2 label.sk-toggleable__label {cursor: pointer;display: block;width: 100%;margin-bottom: 0;padding: 0.3em;box-sizing: border-box;text-align: center;}#sk-container-id-2 label.sk-toggleable__label-arrow:before {content: \"▸\";float: left;margin-right: 0.25em;color: #696969;}#sk-container-id-2 label.sk-toggleable__label-arrow:hover:before {color: black;}#sk-container-id-2 div.sk-estimator:hover label.sk-toggleable__label-arrow:before {color: black;}#sk-container-id-2 div.sk-toggleable__content {max-height: 0;max-width: 0;overflow: hidden;text-align: left;background-color: #f0f8ff;}#sk-container-id-2 div.sk-toggleable__content pre {margin: 0.2em;color: black;border-radius: 0.25em;background-color: #f0f8ff;}#sk-container-id-2 input.sk-toggleable__control:checked~div.sk-toggleable__content {max-height: 200px;max-width: 100%;overflow: auto;}#sk-container-id-2 input.sk-toggleable__control:checked~label.sk-toggleable__label-arrow:before {content: \"▾\";}#sk-container-id-2 div.sk-estimator input.sk-toggleable__control:checked~label.sk-toggleable__label {background-color: #d4ebff;}#sk-container-id-2 div.sk-label input.sk-toggleable__control:checked~label.sk-toggleable__label {background-color: #d4ebff;}#sk-container-id-2 input.sk-hidden--visually {border: 0;clip: rect(1px 1px 1px 1px);clip: rect(1px, 1px, 1px, 1px);height: 1px;margin: -1px;overflow: hidden;padding: 0;position: absolute;width: 1px;}#sk-container-id-2 div.sk-estimator {font-family: monospace;background-color: #f0f8ff;border: 1px dotted black;border-radius: 0.25em;box-sizing: border-box;margin-bottom: 0.5em;}#sk-container-id-2 div.sk-estimator:hover {background-color: #d4ebff;}#sk-container-id-2 div.sk-parallel-item::after {content: \"\";width: 100%;border-bottom: 1px solid gray;flex-grow: 1;}#sk-container-id-2 div.sk-label:hover label.sk-toggleable__label {background-color: #d4ebff;}#sk-container-id-2 div.sk-serial::before {content: \"\";position: absolute;border-left: 1px solid gray;box-sizing: border-box;top: 0;bottom: 0;left: 50%;z-index: 0;}#sk-container-id-2 div.sk-serial {display: flex;flex-direction: column;align-items: center;background-color: white;padding-right: 0.2em;padding-left: 0.2em;position: relative;}#sk-container-id-2 div.sk-item {position: relative;z-index: 1;}#sk-container-id-2 div.sk-parallel {display: flex;align-items: stretch;justify-content: center;background-color: white;position: relative;}#sk-container-id-2 div.sk-item::before, #sk-container-id-2 div.sk-parallel-item::before {content: \"\";position: absolute;border-left: 1px solid gray;box-sizing: border-box;top: 0;bottom: 0;left: 50%;z-index: -1;}#sk-container-id-2 div.sk-parallel-item {display: flex;flex-direction: column;z-index: 1;position: relative;background-color: white;}#sk-container-id-2 div.sk-parallel-item:first-child::after {align-self: flex-end;width: 50%;}#sk-container-id-2 div.sk-parallel-item:last-child::after {align-self: flex-start;width: 50%;}#sk-container-id-2 div.sk-parallel-item:only-child::after {width: 0;}#sk-container-id-2 div.sk-dashed-wrapped {border: 1px dashed gray;margin: 0 0.4em 0.5em 0.4em;box-sizing: border-box;padding-bottom: 0.4em;background-color: white;}#sk-container-id-2 div.sk-label label {font-family: monospace;font-weight: bold;display: inline-block;line-height: 1.2em;}#sk-container-id-2 div.sk-label-container {text-align: center;}#sk-container-id-2 div.sk-container {/* jupyter's `normalize.less` sets `[hidden] { display: none; }` but bootstrap.min.css set `[hidden] { display: none !important; }` so we also need the `!important` here to be able to override the default hidden behavior on the sphinx rendered scikit-learn.org. See: https://github.com/scikit-learn/scikit-learn/issues/21755 */display: inline-block !important;position: relative;}#sk-container-id-2 div.sk-text-repr-fallback {display: none;}</style><div id=\"sk-container-id-2\" class=\"sk-top-container\"><div class=\"sk-text-repr-fallback\"><pre>SVC(kernel=&#x27;linear&#x27;)</pre><b>In a Jupyter environment, please rerun this cell to show the HTML representation or trust the notebook. <br />On GitHub, the HTML representation is unable to render, please try loading this page with nbviewer.org.</b></div><div class=\"sk-container\" hidden><div class=\"sk-item\"><div class=\"sk-estimator sk-toggleable\"><input class=\"sk-toggleable__control sk-hidden--visually\" id=\"sk-estimator-id-2\" type=\"checkbox\" checked><label for=\"sk-estimator-id-2\" class=\"sk-toggleable__label sk-toggleable__label-arrow\">SVC</label><div class=\"sk-toggleable__content\"><pre>SVC(kernel=&#x27;linear&#x27;)</pre></div></div></div></div></div>"
            ],
            "text/plain": [
              "SVC(kernel='linear')"
            ]
          },
          "execution_count": 37,
          "metadata": {},
          "output_type": "execute_result"
        }
      ],
      "source": [
        "iriscmv.fit(X_train2,y_train2)"
      ]
    },
    {
      "cell_type": "code",
      "execution_count": null,
      "metadata": {
        "id": "cTEk0CYI4_Wa"
      },
      "outputs": [],
      "source": [
        "y_pred2 = iriscmv.predict(X_test2)"
      ]
    },
    {
      "cell_type": "code",
      "execution_count": null,
      "metadata": {
        "id": "kcP_7l3O6PCS"
      },
      "outputs": [],
      "source": [
        "accuracy_linear = accuracy_score(y_test2, y_pred2)\n",
        "precision_linear = precision_score(y_test2, y_pred2, average='weighted')\n",
        "recall_linear = recall_score(y_test2, y_pred2, average='weighted')\n",
        "f1_score_linear = f1_score(y_test2, y_pred2, average='weighted')"
      ]
    },
    {
      "cell_type": "code",
      "execution_count": null,
      "metadata": {
        "id": "HwzEBl1fQoID"
      },
      "outputs": [],
      "source": [
        "iriscmv_poly = svm.SVC(kernel='poly')\n",
        "iriscmv_poly.fit(X_train2, y_train2)\n",
        "y_pred2_poly = iriscmv_poly.predict(X_test2)"
      ]
    },
    {
      "cell_type": "code",
      "execution_count": null,
      "metadata": {
        "id": "YQcTsmVjQ5jT"
      },
      "outputs": [],
      "source": [
        "\n",
        "accuracy_poly = accuracy_score(y_test2, y_pred2_poly)\n",
        "precision_poly = precision_score(y_test2, y_pred2_poly, average='weighted')\n",
        "recall_poly = recall_score(y_test2, y_pred2_poly, average='weighted')\n",
        "f1_poly = f1_score(y_test2, y_pred2_poly, average='weighted')"
      ]
    },
    {
      "cell_type": "code",
      "execution_count": null,
      "metadata": {
        "id": "gm6AT28SRiNQ"
      },
      "outputs": [],
      "source": [
        "irissvm_gaussian = svm.SVC(kernel='rbf')\n",
        "irissvm_gaussian.fit(X_train2, y_train2)\n",
        "y_pred_gaussian = irissvm_gaussian.predict(X_test2)"
      ]
    },
    {
      "cell_type": "code",
      "execution_count": null,
      "metadata": {
        "id": "Qmyar6oURv7A"
      },
      "outputs": [],
      "source": [
        "accuracy_gaussian = accuracy_score(y_test2, y_pred_gaussian)\n",
        "precision_gaussian = precision_score(y_test2, y_pred_gaussian, average='weighted')\n",
        "recall_gaussian = recall_score(y_test2, y_pred_gaussian, average='weighted')\n",
        "f1_gaussian = f1_score(y_test2, y_pred_gaussian, average='weighted')"
      ]
    },
    {
      "cell_type": "code",
      "execution_count": null,
      "metadata": {
        "id": "2kCWzydZR38E"
      },
      "outputs": [],
      "source": [
        "irissvm_sigmoid = svm.SVC(kernel='sigmoid')\n",
        "irissvm_sigmoid.fit(X_train2, y_train2)\n",
        "y_pred_sigmoid = irissvm_sigmoid.predict(X_test2)"
      ]
    },
    {
      "cell_type": "code",
      "execution_count": null,
      "metadata": {
        "id": "ZIjyDrFJSC-J"
      },
      "outputs": [],
      "source": [
        "accuracy_sigmoid = accuracy_score(y_test2, y_pred_sigmoid)\n",
        "precision_sigmoid = precision_score(y_test2, y_pred_sigmoid, average='weighted')\n",
        "recall_sigmoid = recall_score(y_test2, y_pred_sigmoid, average='weighted')\n",
        "f1_sigmoid = f1_score(y_test2, y_pred_sigmoid, average='weighted')"
      ]
    },
    {
      "cell_type": "code",
      "execution_count": null,
      "metadata": {
        "id": "S-6U1tXjSG6p"
      },
      "outputs": [],
      "source": [
        "irissvm_rbf = svm.SVC(kernel='rbf')\n",
        "irissvm_rbf.fit(X_train2, y_train2)\n",
        "y_pred_rbf = irissvm_rbf.predict(X_test2)"
      ]
    },
    {
      "cell_type": "code",
      "execution_count": null,
      "metadata": {
        "id": "LayaL-dVSQpS"
      },
      "outputs": [],
      "source": [
        "accuracy_rbf = accuracy_score(y_test2, y_pred_rbf)\n",
        "precision_rbf = precision_score(y_test2, y_pred_rbf, average='weighted')\n",
        "recall_rbf = recall_score(y_test2, y_pred_rbf, average='weighted')\n",
        "f1_rbf = f1_score(y_test2, y_pred_rbf, average='weighted')"
      ]
    },
    {
      "cell_type": "code",
      "execution_count": null,
      "metadata": {
        "id": "4qLweiGXSZM3"
      },
      "outputs": [],
      "source": [
        "t2 = PrettyTable(['kernels','accuracy','precision','recall','f1'])"
      ]
    },
    {
      "cell_type": "code",
      "execution_count": null,
      "metadata": {
        "colab": {
          "base_uri": "https://localhost:8080/"
        },
        "id": "lRcKnzJXSeEi",
        "outputId": "287892f6-d280-4b67-81dc-6ebb28fd82b9"
      },
      "outputs": [
        {
          "name": "stdout",
          "output_type": "stream",
          "text": [
            "+------------------------------+---------------------+---------------------+---------------------+---------------------+\n",
            "|           kernels            |       accuracy      |      precision      |        recall       |          f1         |\n",
            "+------------------------------+---------------------+---------------------+---------------------+---------------------+\n",
            "|      Polynomial Kernel       |  0.9666666666666667 |  0.9696969696969696 |  0.9666666666666667 |  0.9663492063492065 |\n",
            "|       Gaussian Kernel        |         1.0         |         1.0         |         1.0         |         1.0         |\n",
            "|        Sigmoid Kernel        | 0.26666666666666666 | 0.07111111111111111 | 0.26666666666666666 | 0.11228070175438597 |\n",
            "| Radial Basis Function Kernel |         1.0         |         1.0         |         1.0         |         1.0         |\n",
            "+------------------------------+---------------------+---------------------+---------------------+---------------------+\n"
          ]
        }
      ],
      "source": [
        "t2.add_row(['Polynomial Kernel',accuracy_poly,precision_poly,recall_poly,f1_poly])\n",
        "t2.add_row(['Gaussian Kernel',accuracy_gaussian,precision_gaussian,recall_gaussian,f1_gaussian])\n",
        "t2.add_row(['Sigmoid Kernel',accuracy_sigmoid,precision_sigmoid,recall_sigmoid,f1_sigmoid])\n",
        "t2.add_row(['Radial Basis Function Kernel',accuracy_rbf,precision_rbf,recall_rbf,f1_rbf])\n",
        "\n",
        "print(t2)"
      ]
    },
    {
      "cell_type": "code",
      "execution_count": null,
      "metadata": {
        "id": "U2NZxljYgPHJ"
      },
      "outputs": [],
      "source": []
    },
    {
      "cell_type": "markdown",
      "metadata": {
        "id": "b52OPWPD2afi"
      },
      "source": [
        "#Task 3. \n",
        "Compare the performance of selected classification algorithms (Decision Tree, kNN, Logistic Regression) and SVM (using different kernels) with mnist dataset based on accuracy, precision, recall, f1 measures.\n"
      ]
    },
    {
      "cell_type": "code",
      "execution_count": null,
      "metadata": {
        "id": "O1MtmkcT4-tK"
      },
      "outputs": [],
      "source": [
        "mnist = datasets.load_digits()"
      ]
    },
    {
      "cell_type": "code",
      "execution_count": null,
      "metadata": {
        "id": "MtlGpzS7YvrD"
      },
      "outputs": [],
      "source": [
        "X_train3, X_test3,  y_train3, y_test3 = train_test_split(mnist.data, mnist.target, test_size=0.2, random_state=42)"
      ]
    },
    {
      "cell_type": "code",
      "execution_count": null,
      "metadata": {
        "id": "ry28t92RZMyG"
      },
      "outputs": [],
      "source": [
        "mnistsvm_linear = svm.SVC(kernel='linear')"
      ]
    },
    {
      "cell_type": "code",
      "execution_count": null,
      "metadata": {
        "id": "ZRN1WDhkZYOP"
      },
      "outputs": [],
      "source": [
        "mnistsvm_linear.fit(X_train3, y_train3)\n",
        "y_pred_linear = mnistsvm_linear.predict(X_test3)"
      ]
    },
    {
      "cell_type": "code",
      "execution_count": null,
      "metadata": {
        "id": "yb-WOSEUZhPv"
      },
      "outputs": [],
      "source": [
        "accuracy_linear_3 = accuracy_score(y_test3, y_pred_linear)\n",
        "precision_linear_3 = precision_score(y_test3, y_pred_linear, average='weighted')\n",
        "recall_linear_3 = recall_score(y_test3, y_pred_linear, average='weighted')\n",
        "f1_linear_3 = f1_score(y_test3, y_pred_linear, average='weighted')"
      ]
    },
    {
      "cell_type": "code",
      "execution_count": null,
      "metadata": {
        "id": "5q0Cz_vAcrSI"
      },
      "outputs": [],
      "source": [
        "mnistsvm_poly = svm.SVC(kernel='poly')\n",
        "mnistsvm_poly.fit(X_train3, y_train3)\n",
        "y_pred_poly_3 = mnistsvm_poly.predict(X_test3)"
      ]
    },
    {
      "cell_type": "code",
      "execution_count": null,
      "metadata": {
        "id": "gXnYIyVAc2-8"
      },
      "outputs": [],
      "source": [
        "accuracy_poly_3 = accuracy_score(y_test3, y_pred_poly_3)\n",
        "precision_poly_3 = precision_score(y_test3, y_pred_poly_3, average='weighted')\n",
        "recall_poly_3 = recall_score(y_test3, y_pred_poly_3, average='weighted')\n",
        "f1_score_poly_3 = f1_score(y_test3, y_pred_poly_3, average='weighted')"
      ]
    },
    {
      "cell_type": "code",
      "execution_count": null,
      "metadata": {
        "id": "dWSPUqGWdRK5"
      },
      "outputs": [],
      "source": [
        "mnistsvm_gaussian = svm.SVC(kernel='rbf')\n",
        "mnistsvm_gaussian.fit(X_train3, y_train3)\n",
        "y_pred_gaussian_3 = mnistsvm_gaussian.predict(X_test3)"
      ]
    },
    {
      "cell_type": "code",
      "execution_count": null,
      "metadata": {
        "id": "eBRuEg5NdgtN"
      },
      "outputs": [],
      "source": [
        "accuracy_gaussian_3 = accuracy_score(y_test3, y_pred_gaussian_3)\n",
        "precision_gaussian_3 = precision_score(y_test3, y_pred_gaussian_3, average='weighted')\n",
        "recall_gaussian_3 = recall_score(y_test3, y_pred_gaussian_3, average='weighted')\n",
        "f1_score_gaussian_3 = f1_score(y_test3, y_pred_gaussian_3, average='weighted')"
      ]
    },
    {
      "cell_type": "code",
      "execution_count": null,
      "metadata": {
        "id": "FrWwAnfQdvNS"
      },
      "outputs": [],
      "source": [
        "mnistsvm_sigmoid = svm.SVC(kernel='sigmoid')\n",
        "mnistsvm_sigmoid.fit(X_train3, y_train3)\n",
        "y_pred_sigmoid_3 = mnistsvm_sigmoid.predict(X_test3)\n"
      ]
    },
    {
      "cell_type": "code",
      "execution_count": null,
      "metadata": {
        "id": "Oq9dcLNPeC1x"
      },
      "outputs": [],
      "source": [
        "accuracy_sigmoid_3 = accuracy_score(y_test3, y_pred_sigmoid_3)\n",
        "precision_sigmoid_3 = precision_score(y_test3, y_pred_sigmoid_3, average='weighted')\n",
        "recall_sigmoid_3 = recall_score(y_test3, y_pred_sigmoid_3, average='weighted')\n",
        "f1_score_sigmoid_3 = f1_score(y_test3, y_pred_sigmoid_3, average='weighted')"
      ]
    },
    {
      "cell_type": "code",
      "execution_count": null,
      "metadata": {
        "id": "bA9GWM7yfGoK"
      },
      "outputs": [],
      "source": [
        "mnistsvm_rbf = svm.SVC(kernel='rbf')\n",
        "mnistsvm_rbf.fit(X_train3, y_train3)\n",
        "y_pred_rbf_3 = mnistsvm_rbf.predict(X_test3)"
      ]
    },
    {
      "cell_type": "code",
      "execution_count": null,
      "metadata": {
        "id": "HnwXvcSjfU5r"
      },
      "outputs": [],
      "source": [
        "accuracy_rbf_3 = accuracy_score(y_test3, y_pred_rbf_3)\n",
        "precision_rbf_3 = precision_score(y_test3, y_pred_rbf_3, average='weighted')\n",
        "recall_rbf_3 = recall_score(y_test3, y_pred_rbf_3, average='weighted')\n",
        "f1_rbf_3 = f1_score(y_test3, y_pred_rbf_3, average='weighted')"
      ]
    },
    {
      "cell_type": "code",
      "execution_count": null,
      "metadata": {
        "id": "ct0u7YNTeMvS"
      },
      "outputs": [],
      "source": [
        "t3 = PrettyTable(['kernels','accuracy','precision','recall','f1'])"
      ]
    },
    {
      "cell_type": "code",
      "execution_count": null,
      "metadata": {
        "colab": {
          "base_uri": "https://localhost:8080/"
        },
        "id": "nwPp1yDoekm7",
        "outputId": "32a2827e-a001-449c-c851-937527e21883"
      },
      "outputs": [
        {
          "name": "stdout",
          "output_type": "stream",
          "text": [
            "+------------------------------+--------------------+--------------------+--------------------+--------------------+\n",
            "|           kernels            |      accuracy      |     precision      |       recall       |         f1         |\n",
            "+------------------------------+--------------------+--------------------+--------------------+--------------------+\n",
            "|        Linear kernel         | 0.9777777777777777 | 0.9778736953613801 | 0.9777777777777777 | 0.9776863807154582 |\n",
            "|      Polynomial Kernel       | 0.9916666666666667 | 0.9917438271604938 | 0.9916666666666667 | 0.9916712941928754 |\n",
            "|       Gaussian Kernel        | 0.9861111111111112 | 0.9861882716049383 | 0.9861111111111112 | 0.9861071324368055 |\n",
            "|        Sigmoid Kernel        |        0.9         | 0.9023494139797917 |        0.9         | 0.9005598175042149 |\n",
            "| Radial Basis Function Kernel | 0.9861111111111112 | 0.9861882716049383 | 0.9861111111111112 | 0.9861071324368055 |\n",
            "+------------------------------+--------------------+--------------------+--------------------+--------------------+\n"
          ]
        }
      ],
      "source": [
        "t3.add_row(['Linear kernel',accuracy_linear_3,precision_linear_3,recall_linear_3,f1_linear_3])\n",
        "t3.add_row(['Polynomial Kernel',accuracy_poly_3,precision_poly_3,recall_poly_3,f1_score_poly_3])\n",
        "t3.add_row(['Gaussian Kernel',accuracy_gaussian_3,precision_gaussian_3,recall_gaussian_3,f1_score_gaussian_3])\n",
        "t3.add_row(['Sigmoid Kernel',accuracy_sigmoid_3,precision_sigmoid_3,recall_sigmoid_3,f1_score_sigmoid_3])\n",
        "t3.add_row(['Radial Basis Function Kernel',accuracy_rbf_3,precision_rbf_3,recall_rbf_3,f1_rbf_3])\n",
        "\n",
        "print(t3)"
      ]
    },
    {
      "cell_type": "code",
      "execution_count": null,
      "metadata": {
        "colab": {
          "base_uri": "https://localhost:8080/"
        },
        "id": "YuVnFqg-gKPB",
        "outputId": "7e736c3a-861a-4392-9fc1-3d7e58371bf8"
      },
      "outputs": [
        {
          "name": "stderr",
          "output_type": "stream",
          "text": [
            "/usr/local/lib/python3.9/dist-packages/sklearn/linear_model/_logistic.py:458: ConvergenceWarning: lbfgs failed to converge (status=1):\n",
            "STOP: TOTAL NO. of ITERATIONS REACHED LIMIT.\n",
            "\n",
            "Increase the number of iterations (max_iter) or scale the data as shown in:\n",
            "    https://scikit-learn.org/stable/modules/preprocessing.html\n",
            "Please also refer to the documentation for alternative solver options:\n",
            "    https://scikit-learn.org/stable/modules/linear_model.html#logistic-regression\n",
            "  n_iter_i = _check_optimize_result(\n"
          ]
        }
      ],
      "source": [
        "ln_3 = linear_model.LogisticRegression()\n",
        "ln_3.fit(X_train3, y_train3)\n",
        "y_ln_pred_3 = ln_3.predict(X_test3)"
      ]
    },
    {
      "cell_type": "code",
      "execution_count": null,
      "metadata": {
        "id": "CQFTHF1nhM5P"
      },
      "outputs": [],
      "source": [
        "accuracy_ln_3 = accuracy_score(y_test3, y_ln_pred_3)\n",
        "precision_ln_3 = precision_score(y_test3, y_ln_pred_3,average='weighted')\n",
        "recall_ln_3 = recall_score(y_test3, y_ln_pred_3,average='weighted')\n",
        "f1_ln_3 = f1_score(y_test3, y_ln_pred_3,average='weighted')"
      ]
    },
    {
      "cell_type": "code",
      "execution_count": null,
      "metadata": {
        "id": "qrdESIeNhh0_"
      },
      "outputs": [],
      "source": [
        "tree_3 = tree.DecisionTreeClassifier()\n",
        "tree_3.fit(X_train3, y_train3)\n",
        "y_tree_pred_3 = tree_3.predict(X_test3)"
      ]
    },
    {
      "cell_type": "code",
      "execution_count": null,
      "metadata": {
        "id": "p8euz_Baie7m"
      },
      "outputs": [],
      "source": [
        "accuracy_tree_3 = accuracy_score(y_test3, y_tree_pred_3)\n",
        "precision_tree_3 = precision_score(y_test3, y_tree_pred_3,average='weighted')\n",
        "recall_tree_3 = recall_score(y_test3, y_tree_pred_3,average='weighted')\n",
        "f1_tree_3 = f1_score(y_test3, y_tree_pred_3,average='weighted')"
      ]
    },
    {
      "cell_type": "code",
      "execution_count": null,
      "metadata": {
        "colab": {
          "base_uri": "https://localhost:8080/",
          "height": 75
        },
        "id": "_zh5Y7lQi-Gi",
        "outputId": "d39f6328-2756-467b-e307-57218433b4a1"
      },
      "outputs": [
        {
          "data": {
            "text/html": [
              "<style>#sk-container-id-7 {color: black;background-color: white;}#sk-container-id-7 pre{padding: 0;}#sk-container-id-7 div.sk-toggleable {background-color: white;}#sk-container-id-7 label.sk-toggleable__label {cursor: pointer;display: block;width: 100%;margin-bottom: 0;padding: 0.3em;box-sizing: border-box;text-align: center;}#sk-container-id-7 label.sk-toggleable__label-arrow:before {content: \"▸\";float: left;margin-right: 0.25em;color: #696969;}#sk-container-id-7 label.sk-toggleable__label-arrow:hover:before {color: black;}#sk-container-id-7 div.sk-estimator:hover label.sk-toggleable__label-arrow:before {color: black;}#sk-container-id-7 div.sk-toggleable__content {max-height: 0;max-width: 0;overflow: hidden;text-align: left;background-color: #f0f8ff;}#sk-container-id-7 div.sk-toggleable__content pre {margin: 0.2em;color: black;border-radius: 0.25em;background-color: #f0f8ff;}#sk-container-id-7 input.sk-toggleable__control:checked~div.sk-toggleable__content {max-height: 200px;max-width: 100%;overflow: auto;}#sk-container-id-7 input.sk-toggleable__control:checked~label.sk-toggleable__label-arrow:before {content: \"▾\";}#sk-container-id-7 div.sk-estimator input.sk-toggleable__control:checked~label.sk-toggleable__label {background-color: #d4ebff;}#sk-container-id-7 div.sk-label input.sk-toggleable__control:checked~label.sk-toggleable__label {background-color: #d4ebff;}#sk-container-id-7 input.sk-hidden--visually {border: 0;clip: rect(1px 1px 1px 1px);clip: rect(1px, 1px, 1px, 1px);height: 1px;margin: -1px;overflow: hidden;padding: 0;position: absolute;width: 1px;}#sk-container-id-7 div.sk-estimator {font-family: monospace;background-color: #f0f8ff;border: 1px dotted black;border-radius: 0.25em;box-sizing: border-box;margin-bottom: 0.5em;}#sk-container-id-7 div.sk-estimator:hover {background-color: #d4ebff;}#sk-container-id-7 div.sk-parallel-item::after {content: \"\";width: 100%;border-bottom: 1px solid gray;flex-grow: 1;}#sk-container-id-7 div.sk-label:hover label.sk-toggleable__label {background-color: #d4ebff;}#sk-container-id-7 div.sk-serial::before {content: \"\";position: absolute;border-left: 1px solid gray;box-sizing: border-box;top: 0;bottom: 0;left: 50%;z-index: 0;}#sk-container-id-7 div.sk-serial {display: flex;flex-direction: column;align-items: center;background-color: white;padding-right: 0.2em;padding-left: 0.2em;position: relative;}#sk-container-id-7 div.sk-item {position: relative;z-index: 1;}#sk-container-id-7 div.sk-parallel {display: flex;align-items: stretch;justify-content: center;background-color: white;position: relative;}#sk-container-id-7 div.sk-item::before, #sk-container-id-7 div.sk-parallel-item::before {content: \"\";position: absolute;border-left: 1px solid gray;box-sizing: border-box;top: 0;bottom: 0;left: 50%;z-index: -1;}#sk-container-id-7 div.sk-parallel-item {display: flex;flex-direction: column;z-index: 1;position: relative;background-color: white;}#sk-container-id-7 div.sk-parallel-item:first-child::after {align-self: flex-end;width: 50%;}#sk-container-id-7 div.sk-parallel-item:last-child::after {align-self: flex-start;width: 50%;}#sk-container-id-7 div.sk-parallel-item:only-child::after {width: 0;}#sk-container-id-7 div.sk-dashed-wrapped {border: 1px dashed gray;margin: 0 0.4em 0.5em 0.4em;box-sizing: border-box;padding-bottom: 0.4em;background-color: white;}#sk-container-id-7 div.sk-label label {font-family: monospace;font-weight: bold;display: inline-block;line-height: 1.2em;}#sk-container-id-7 div.sk-label-container {text-align: center;}#sk-container-id-7 div.sk-container {/* jupyter's `normalize.less` sets `[hidden] { display: none; }` but bootstrap.min.css set `[hidden] { display: none !important; }` so we also need the `!important` here to be able to override the default hidden behavior on the sphinx rendered scikit-learn.org. See: https://github.com/scikit-learn/scikit-learn/issues/21755 */display: inline-block !important;position: relative;}#sk-container-id-7 div.sk-text-repr-fallback {display: none;}</style><div id=\"sk-container-id-7\" class=\"sk-top-container\"><div class=\"sk-text-repr-fallback\"><pre>KNeighborsClassifier()</pre><b>In a Jupyter environment, please rerun this cell to show the HTML representation or trust the notebook. <br />On GitHub, the HTML representation is unable to render, please try loading this page with nbviewer.org.</b></div><div class=\"sk-container\" hidden><div class=\"sk-item\"><div class=\"sk-estimator sk-toggleable\"><input class=\"sk-toggleable__control sk-hidden--visually\" id=\"sk-estimator-id-7\" type=\"checkbox\" checked><label for=\"sk-estimator-id-7\" class=\"sk-toggleable__label sk-toggleable__label-arrow\">KNeighborsClassifier</label><div class=\"sk-toggleable__content\"><pre>KNeighborsClassifier()</pre></div></div></div></div></div>"
            ],
            "text/plain": [
              "KNeighborsClassifier()"
            ]
          },
          "execution_count": 119,
          "metadata": {},
          "output_type": "execute_result"
        }
      ],
      "source": [
        "knn_3 = KNeighborsClassifier()\n",
        "knn_3.fit(X_train3, y_train3)\n"
      ]
    },
    {
      "cell_type": "code",
      "execution_count": null,
      "metadata": {
        "id": "wD-s5DY6jP0B"
      },
      "outputs": [],
      "source": [
        "y_knn_pred_3 = knn_3.predict(X_test3)"
      ]
    },
    {
      "cell_type": "code",
      "execution_count": null,
      "metadata": {
        "id": "S4ITmNKUjXdh"
      },
      "outputs": [],
      "source": [
        "accuracy_knn_3 = accuracy_score(y_test3, y_knn_pred_3)\n",
        "precision_knn_3 = precision_score(y_test3, y_knn_pred_3,average='weighted')\n",
        "recall_knn_3 = recall_score(y_test3, y_knn_pred_3,average='weighted')\n",
        "f1_knn_3 = f1_score(y_test3, y_knn_pred_3,average='weighted')"
      ]
    },
    {
      "cell_type": "code",
      "execution_count": null,
      "metadata": {
        "id": "D7R2kjj_jm62"
      },
      "outputs": [],
      "source": [
        "t3_1 = PrettyTable(['algorithms','accuracy','precision','recall','f1'])"
      ]
    },
    {
      "cell_type": "code",
      "execution_count": null,
      "metadata": {
        "colab": {
          "base_uri": "https://localhost:8080/"
        },
        "id": "lqB_XVsjjm-d",
        "outputId": "2383186d-8dca-4a74-9e36-bfd0e06285b1"
      },
      "outputs": [
        {
          "name": "stdout",
          "output_type": "stream",
          "text": [
            "+---------------------+--------------------+--------------------+--------------------+--------------------+\n",
            "|      algorithms     |      accuracy      |     precision      |       recall       |         f1         |\n",
            "+---------------------+--------------------+--------------------+--------------------+--------------------+\n",
            "| Logistic Regression | 0.9694444444444444 | 0.9699365066293734 | 0.9694444444444444 | 0.9695153645323797 |\n",
            "|    Decision Tree    | 0.8611111111111112 | 0.8660798903190208 | 0.8611111111111112 | 0.8611187892867233 |\n",
            "|         KNN         | 0.9861111111111112 | 0.9861869867863546 | 0.9861111111111112 | 0.9860800746632832 |\n",
            "+---------------------+--------------------+--------------------+--------------------+--------------------+\n"
          ]
        }
      ],
      "source": [
        "\n",
        "t3_1.add_row(['Logistic Regression',accuracy_ln_3,precision_ln_3,recall_ln_3,f1_ln_3])\n",
        "t3_1.add_row(['Decision Tree',accuracy_tree_3,precision_tree_3,recall_tree_3,f1_tree_3])\n",
        "t3_1.add_row(['KNN',accuracy_knn_3,precision_knn_3,recall_knn_3,f1_knn_3])\n",
        "\n",
        "print(t3_1)"
      ]
    },
    {
      "cell_type": "markdown",
      "metadata": {
        "id": "Z5pp7_h-aP2u"
      },
      "source": [
        "#Task 4. \n",
        "Compare the performance of selected classification algorithms (Decision Tree, kNN, Logistic Regression) and SVM (using different kernels) with **credit card dataset** based on accuracy, precision, recall, f1 measures.\n",
        "\n",
        "*   Give some comments on the obtained results\n",
        "*   Identify issues with dataset, and propose the solutions to these issues\n",
        "\n"
      ]
    },
    {
      "cell_type": "code",
      "execution_count": null,
      "metadata": {
        "id": "jgVJdqjFo1ha"
      },
      "outputs": [],
      "source": []
    },
    {
      "cell_type": "code",
      "execution_count": null,
      "metadata": {
        "id": "Rw_-8FIf2KxW"
      },
      "outputs": [],
      "source": [
        "# code\n",
        "card_data = pd.read_csv('/content/gdrive/MyDrive/MachineLearning/Lab5/creditcard.csv')"
      ]
    },
    {
      "cell_type": "code",
      "execution_count": null,
      "metadata": {
        "colab": {
          "base_uri": "https://localhost:8080/",
          "height": 468
        },
        "id": "yjRBN4q9nbJi",
        "outputId": "7e96dd5f-67ca-4ce4-ec8a-c9acc0d6dec9"
      },
      "outputs": [
        {
          "data": {
            "text/html": [
              "\n",
              "  <div id=\"df-5c235674-d109-41c8-b6fd-ef6eacaac0b2\">\n",
              "    <div class=\"colab-df-container\">\n",
              "      <div>\n",
              "<style scoped>\n",
              "    .dataframe tbody tr th:only-of-type {\n",
              "        vertical-align: middle;\n",
              "    }\n",
              "\n",
              "    .dataframe tbody tr th {\n",
              "        vertical-align: top;\n",
              "    }\n",
              "\n",
              "    .dataframe thead th {\n",
              "        text-align: right;\n",
              "    }\n",
              "</style>\n",
              "<table border=\"1\" class=\"dataframe\">\n",
              "  <thead>\n",
              "    <tr style=\"text-align: right;\">\n",
              "      <th></th>\n",
              "      <th>Time</th>\n",
              "      <th>V1</th>\n",
              "      <th>V2</th>\n",
              "      <th>V3</th>\n",
              "      <th>V4</th>\n",
              "      <th>V5</th>\n",
              "      <th>V6</th>\n",
              "      <th>V7</th>\n",
              "      <th>V8</th>\n",
              "      <th>V9</th>\n",
              "      <th>...</th>\n",
              "      <th>V21</th>\n",
              "      <th>V22</th>\n",
              "      <th>V23</th>\n",
              "      <th>V24</th>\n",
              "      <th>V25</th>\n",
              "      <th>V26</th>\n",
              "      <th>V27</th>\n",
              "      <th>V28</th>\n",
              "      <th>Amount</th>\n",
              "      <th>Class</th>\n",
              "    </tr>\n",
              "  </thead>\n",
              "  <tbody>\n",
              "    <tr>\n",
              "      <th>0</th>\n",
              "      <td>0.0</td>\n",
              "      <td>-1.359807</td>\n",
              "      <td>-0.072781</td>\n",
              "      <td>2.536347</td>\n",
              "      <td>1.378155</td>\n",
              "      <td>-0.338321</td>\n",
              "      <td>0.462388</td>\n",
              "      <td>0.239599</td>\n",
              "      <td>0.098698</td>\n",
              "      <td>0.363787</td>\n",
              "      <td>...</td>\n",
              "      <td>-0.018307</td>\n",
              "      <td>0.277838</td>\n",
              "      <td>-0.110474</td>\n",
              "      <td>0.066928</td>\n",
              "      <td>0.128539</td>\n",
              "      <td>-0.189115</td>\n",
              "      <td>0.133558</td>\n",
              "      <td>-0.021053</td>\n",
              "      <td>149.62</td>\n",
              "      <td>0</td>\n",
              "    </tr>\n",
              "    <tr>\n",
              "      <th>1</th>\n",
              "      <td>0.0</td>\n",
              "      <td>1.191857</td>\n",
              "      <td>0.266151</td>\n",
              "      <td>0.166480</td>\n",
              "      <td>0.448154</td>\n",
              "      <td>0.060018</td>\n",
              "      <td>-0.082361</td>\n",
              "      <td>-0.078803</td>\n",
              "      <td>0.085102</td>\n",
              "      <td>-0.255425</td>\n",
              "      <td>...</td>\n",
              "      <td>-0.225775</td>\n",
              "      <td>-0.638672</td>\n",
              "      <td>0.101288</td>\n",
              "      <td>-0.339846</td>\n",
              "      <td>0.167170</td>\n",
              "      <td>0.125895</td>\n",
              "      <td>-0.008983</td>\n",
              "      <td>0.014724</td>\n",
              "      <td>2.69</td>\n",
              "      <td>0</td>\n",
              "    </tr>\n",
              "    <tr>\n",
              "      <th>2</th>\n",
              "      <td>1.0</td>\n",
              "      <td>-1.358354</td>\n",
              "      <td>-1.340163</td>\n",
              "      <td>1.773209</td>\n",
              "      <td>0.379780</td>\n",
              "      <td>-0.503198</td>\n",
              "      <td>1.800499</td>\n",
              "      <td>0.791461</td>\n",
              "      <td>0.247676</td>\n",
              "      <td>-1.514654</td>\n",
              "      <td>...</td>\n",
              "      <td>0.247998</td>\n",
              "      <td>0.771679</td>\n",
              "      <td>0.909412</td>\n",
              "      <td>-0.689281</td>\n",
              "      <td>-0.327642</td>\n",
              "      <td>-0.139097</td>\n",
              "      <td>-0.055353</td>\n",
              "      <td>-0.059752</td>\n",
              "      <td>378.66</td>\n",
              "      <td>0</td>\n",
              "    </tr>\n",
              "    <tr>\n",
              "      <th>3</th>\n",
              "      <td>1.0</td>\n",
              "      <td>-0.966272</td>\n",
              "      <td>-0.185226</td>\n",
              "      <td>1.792993</td>\n",
              "      <td>-0.863291</td>\n",
              "      <td>-0.010309</td>\n",
              "      <td>1.247203</td>\n",
              "      <td>0.237609</td>\n",
              "      <td>0.377436</td>\n",
              "      <td>-1.387024</td>\n",
              "      <td>...</td>\n",
              "      <td>-0.108300</td>\n",
              "      <td>0.005274</td>\n",
              "      <td>-0.190321</td>\n",
              "      <td>-1.175575</td>\n",
              "      <td>0.647376</td>\n",
              "      <td>-0.221929</td>\n",
              "      <td>0.062723</td>\n",
              "      <td>0.061458</td>\n",
              "      <td>123.50</td>\n",
              "      <td>0</td>\n",
              "    </tr>\n",
              "    <tr>\n",
              "      <th>4</th>\n",
              "      <td>2.0</td>\n",
              "      <td>-1.158233</td>\n",
              "      <td>0.877737</td>\n",
              "      <td>1.548718</td>\n",
              "      <td>0.403034</td>\n",
              "      <td>-0.407193</td>\n",
              "      <td>0.095921</td>\n",
              "      <td>0.592941</td>\n",
              "      <td>-0.270533</td>\n",
              "      <td>0.817739</td>\n",
              "      <td>...</td>\n",
              "      <td>-0.009431</td>\n",
              "      <td>0.798278</td>\n",
              "      <td>-0.137458</td>\n",
              "      <td>0.141267</td>\n",
              "      <td>-0.206010</td>\n",
              "      <td>0.502292</td>\n",
              "      <td>0.219422</td>\n",
              "      <td>0.215153</td>\n",
              "      <td>69.99</td>\n",
              "      <td>0</td>\n",
              "    </tr>\n",
              "    <tr>\n",
              "      <th>...</th>\n",
              "      <td>...</td>\n",
              "      <td>...</td>\n",
              "      <td>...</td>\n",
              "      <td>...</td>\n",
              "      <td>...</td>\n",
              "      <td>...</td>\n",
              "      <td>...</td>\n",
              "      <td>...</td>\n",
              "      <td>...</td>\n",
              "      <td>...</td>\n",
              "      <td>...</td>\n",
              "      <td>...</td>\n",
              "      <td>...</td>\n",
              "      <td>...</td>\n",
              "      <td>...</td>\n",
              "      <td>...</td>\n",
              "      <td>...</td>\n",
              "      <td>...</td>\n",
              "      <td>...</td>\n",
              "      <td>...</td>\n",
              "      <td>...</td>\n",
              "    </tr>\n",
              "    <tr>\n",
              "      <th>284802</th>\n",
              "      <td>172786.0</td>\n",
              "      <td>-11.881118</td>\n",
              "      <td>10.071785</td>\n",
              "      <td>-9.834783</td>\n",
              "      <td>-2.066656</td>\n",
              "      <td>-5.364473</td>\n",
              "      <td>-2.606837</td>\n",
              "      <td>-4.918215</td>\n",
              "      <td>7.305334</td>\n",
              "      <td>1.914428</td>\n",
              "      <td>...</td>\n",
              "      <td>0.213454</td>\n",
              "      <td>0.111864</td>\n",
              "      <td>1.014480</td>\n",
              "      <td>-0.509348</td>\n",
              "      <td>1.436807</td>\n",
              "      <td>0.250034</td>\n",
              "      <td>0.943651</td>\n",
              "      <td>0.823731</td>\n",
              "      <td>0.77</td>\n",
              "      <td>0</td>\n",
              "    </tr>\n",
              "    <tr>\n",
              "      <th>284803</th>\n",
              "      <td>172787.0</td>\n",
              "      <td>-0.732789</td>\n",
              "      <td>-0.055080</td>\n",
              "      <td>2.035030</td>\n",
              "      <td>-0.738589</td>\n",
              "      <td>0.868229</td>\n",
              "      <td>1.058415</td>\n",
              "      <td>0.024330</td>\n",
              "      <td>0.294869</td>\n",
              "      <td>0.584800</td>\n",
              "      <td>...</td>\n",
              "      <td>0.214205</td>\n",
              "      <td>0.924384</td>\n",
              "      <td>0.012463</td>\n",
              "      <td>-1.016226</td>\n",
              "      <td>-0.606624</td>\n",
              "      <td>-0.395255</td>\n",
              "      <td>0.068472</td>\n",
              "      <td>-0.053527</td>\n",
              "      <td>24.79</td>\n",
              "      <td>0</td>\n",
              "    </tr>\n",
              "    <tr>\n",
              "      <th>284804</th>\n",
              "      <td>172788.0</td>\n",
              "      <td>1.919565</td>\n",
              "      <td>-0.301254</td>\n",
              "      <td>-3.249640</td>\n",
              "      <td>-0.557828</td>\n",
              "      <td>2.630515</td>\n",
              "      <td>3.031260</td>\n",
              "      <td>-0.296827</td>\n",
              "      <td>0.708417</td>\n",
              "      <td>0.432454</td>\n",
              "      <td>...</td>\n",
              "      <td>0.232045</td>\n",
              "      <td>0.578229</td>\n",
              "      <td>-0.037501</td>\n",
              "      <td>0.640134</td>\n",
              "      <td>0.265745</td>\n",
              "      <td>-0.087371</td>\n",
              "      <td>0.004455</td>\n",
              "      <td>-0.026561</td>\n",
              "      <td>67.88</td>\n",
              "      <td>0</td>\n",
              "    </tr>\n",
              "    <tr>\n",
              "      <th>284805</th>\n",
              "      <td>172788.0</td>\n",
              "      <td>-0.240440</td>\n",
              "      <td>0.530483</td>\n",
              "      <td>0.702510</td>\n",
              "      <td>0.689799</td>\n",
              "      <td>-0.377961</td>\n",
              "      <td>0.623708</td>\n",
              "      <td>-0.686180</td>\n",
              "      <td>0.679145</td>\n",
              "      <td>0.392087</td>\n",
              "      <td>...</td>\n",
              "      <td>0.265245</td>\n",
              "      <td>0.800049</td>\n",
              "      <td>-0.163298</td>\n",
              "      <td>0.123205</td>\n",
              "      <td>-0.569159</td>\n",
              "      <td>0.546668</td>\n",
              "      <td>0.108821</td>\n",
              "      <td>0.104533</td>\n",
              "      <td>10.00</td>\n",
              "      <td>0</td>\n",
              "    </tr>\n",
              "    <tr>\n",
              "      <th>284806</th>\n",
              "      <td>172792.0</td>\n",
              "      <td>-0.533413</td>\n",
              "      <td>-0.189733</td>\n",
              "      <td>0.703337</td>\n",
              "      <td>-0.506271</td>\n",
              "      <td>-0.012546</td>\n",
              "      <td>-0.649617</td>\n",
              "      <td>1.577006</td>\n",
              "      <td>-0.414650</td>\n",
              "      <td>0.486180</td>\n",
              "      <td>...</td>\n",
              "      <td>0.261057</td>\n",
              "      <td>0.643078</td>\n",
              "      <td>0.376777</td>\n",
              "      <td>0.008797</td>\n",
              "      <td>-0.473649</td>\n",
              "      <td>-0.818267</td>\n",
              "      <td>-0.002415</td>\n",
              "      <td>0.013649</td>\n",
              "      <td>217.00</td>\n",
              "      <td>0</td>\n",
              "    </tr>\n",
              "  </tbody>\n",
              "</table>\n",
              "<p>284807 rows × 31 columns</p>\n",
              "</div>\n",
              "      <button class=\"colab-df-convert\" onclick=\"convertToInteractive('df-5c235674-d109-41c8-b6fd-ef6eacaac0b2')\"\n",
              "              title=\"Convert this dataframe to an interactive table.\"\n",
              "              style=\"display:none;\">\n",
              "        \n",
              "  <svg xmlns=\"http://www.w3.org/2000/svg\" height=\"24px\"viewBox=\"0 0 24 24\"\n",
              "       width=\"24px\">\n",
              "    <path d=\"M0 0h24v24H0V0z\" fill=\"none\"/>\n",
              "    <path d=\"M18.56 5.44l.94 2.06.94-2.06 2.06-.94-2.06-.94-.94-2.06-.94 2.06-2.06.94zm-11 1L8.5 8.5l.94-2.06 2.06-.94-2.06-.94L8.5 2.5l-.94 2.06-2.06.94zm10 10l.94 2.06.94-2.06 2.06-.94-2.06-.94-.94-2.06-.94 2.06-2.06.94z\"/><path d=\"M17.41 7.96l-1.37-1.37c-.4-.4-.92-.59-1.43-.59-.52 0-1.04.2-1.43.59L10.3 9.45l-7.72 7.72c-.78.78-.78 2.05 0 2.83L4 21.41c.39.39.9.59 1.41.59.51 0 1.02-.2 1.41-.59l7.78-7.78 2.81-2.81c.8-.78.8-2.07 0-2.86zM5.41 20L4 18.59l7.72-7.72 1.47 1.35L5.41 20z\"/>\n",
              "  </svg>\n",
              "      </button>\n",
              "      \n",
              "  <style>\n",
              "    .colab-df-container {\n",
              "      display:flex;\n",
              "      flex-wrap:wrap;\n",
              "      gap: 12px;\n",
              "    }\n",
              "\n",
              "    .colab-df-convert {\n",
              "      background-color: #E8F0FE;\n",
              "      border: none;\n",
              "      border-radius: 50%;\n",
              "      cursor: pointer;\n",
              "      display: none;\n",
              "      fill: #1967D2;\n",
              "      height: 32px;\n",
              "      padding: 0 0 0 0;\n",
              "      width: 32px;\n",
              "    }\n",
              "\n",
              "    .colab-df-convert:hover {\n",
              "      background-color: #E2EBFA;\n",
              "      box-shadow: 0px 1px 2px rgba(60, 64, 67, 0.3), 0px 1px 3px 1px rgba(60, 64, 67, 0.15);\n",
              "      fill: #174EA6;\n",
              "    }\n",
              "\n",
              "    [theme=dark] .colab-df-convert {\n",
              "      background-color: #3B4455;\n",
              "      fill: #D2E3FC;\n",
              "    }\n",
              "\n",
              "    [theme=dark] .colab-df-convert:hover {\n",
              "      background-color: #434B5C;\n",
              "      box-shadow: 0px 1px 3px 1px rgba(0, 0, 0, 0.15);\n",
              "      filter: drop-shadow(0px 1px 2px rgba(0, 0, 0, 0.3));\n",
              "      fill: #FFFFFF;\n",
              "    }\n",
              "  </style>\n",
              "\n",
              "      <script>\n",
              "        const buttonEl =\n",
              "          document.querySelector('#df-5c235674-d109-41c8-b6fd-ef6eacaac0b2 button.colab-df-convert');\n",
              "        buttonEl.style.display =\n",
              "          google.colab.kernel.accessAllowed ? 'block' : 'none';\n",
              "\n",
              "        async function convertToInteractive(key) {\n",
              "          const element = document.querySelector('#df-5c235674-d109-41c8-b6fd-ef6eacaac0b2');\n",
              "          const dataTable =\n",
              "            await google.colab.kernel.invokeFunction('convertToInteractive',\n",
              "                                                     [key], {});\n",
              "          if (!dataTable) return;\n",
              "\n",
              "          const docLinkHtml = 'Like what you see? Visit the ' +\n",
              "            '<a target=\"_blank\" href=https://colab.research.google.com/notebooks/data_table.ipynb>data table notebook</a>'\n",
              "            + ' to learn more about interactive tables.';\n",
              "          element.innerHTML = '';\n",
              "          dataTable['output_type'] = 'display_data';\n",
              "          await google.colab.output.renderOutput(dataTable, element);\n",
              "          const docLink = document.createElement('div');\n",
              "          docLink.innerHTML = docLinkHtml;\n",
              "          element.appendChild(docLink);\n",
              "        }\n",
              "      </script>\n",
              "    </div>\n",
              "  </div>\n",
              "  "
            ],
            "text/plain": [
              "            Time         V1         V2        V3        V4        V5  \\\n",
              "0            0.0  -1.359807  -0.072781  2.536347  1.378155 -0.338321   \n",
              "1            0.0   1.191857   0.266151  0.166480  0.448154  0.060018   \n",
              "2            1.0  -1.358354  -1.340163  1.773209  0.379780 -0.503198   \n",
              "3            1.0  -0.966272  -0.185226  1.792993 -0.863291 -0.010309   \n",
              "4            2.0  -1.158233   0.877737  1.548718  0.403034 -0.407193   \n",
              "...          ...        ...        ...       ...       ...       ...   \n",
              "284802  172786.0 -11.881118  10.071785 -9.834783 -2.066656 -5.364473   \n",
              "284803  172787.0  -0.732789  -0.055080  2.035030 -0.738589  0.868229   \n",
              "284804  172788.0   1.919565  -0.301254 -3.249640 -0.557828  2.630515   \n",
              "284805  172788.0  -0.240440   0.530483  0.702510  0.689799 -0.377961   \n",
              "284806  172792.0  -0.533413  -0.189733  0.703337 -0.506271 -0.012546   \n",
              "\n",
              "              V6        V7        V8        V9  ...       V21       V22  \\\n",
              "0       0.462388  0.239599  0.098698  0.363787  ... -0.018307  0.277838   \n",
              "1      -0.082361 -0.078803  0.085102 -0.255425  ... -0.225775 -0.638672   \n",
              "2       1.800499  0.791461  0.247676 -1.514654  ...  0.247998  0.771679   \n",
              "3       1.247203  0.237609  0.377436 -1.387024  ... -0.108300  0.005274   \n",
              "4       0.095921  0.592941 -0.270533  0.817739  ... -0.009431  0.798278   \n",
              "...          ...       ...       ...       ...  ...       ...       ...   \n",
              "284802 -2.606837 -4.918215  7.305334  1.914428  ...  0.213454  0.111864   \n",
              "284803  1.058415  0.024330  0.294869  0.584800  ...  0.214205  0.924384   \n",
              "284804  3.031260 -0.296827  0.708417  0.432454  ...  0.232045  0.578229   \n",
              "284805  0.623708 -0.686180  0.679145  0.392087  ...  0.265245  0.800049   \n",
              "284806 -0.649617  1.577006 -0.414650  0.486180  ...  0.261057  0.643078   \n",
              "\n",
              "             V23       V24       V25       V26       V27       V28  Amount  \\\n",
              "0      -0.110474  0.066928  0.128539 -0.189115  0.133558 -0.021053  149.62   \n",
              "1       0.101288 -0.339846  0.167170  0.125895 -0.008983  0.014724    2.69   \n",
              "2       0.909412 -0.689281 -0.327642 -0.139097 -0.055353 -0.059752  378.66   \n",
              "3      -0.190321 -1.175575  0.647376 -0.221929  0.062723  0.061458  123.50   \n",
              "4      -0.137458  0.141267 -0.206010  0.502292  0.219422  0.215153   69.99   \n",
              "...          ...       ...       ...       ...       ...       ...     ...   \n",
              "284802  1.014480 -0.509348  1.436807  0.250034  0.943651  0.823731    0.77   \n",
              "284803  0.012463 -1.016226 -0.606624 -0.395255  0.068472 -0.053527   24.79   \n",
              "284804 -0.037501  0.640134  0.265745 -0.087371  0.004455 -0.026561   67.88   \n",
              "284805 -0.163298  0.123205 -0.569159  0.546668  0.108821  0.104533   10.00   \n",
              "284806  0.376777  0.008797 -0.473649 -0.818267 -0.002415  0.013649  217.00   \n",
              "\n",
              "        Class  \n",
              "0           0  \n",
              "1           0  \n",
              "2           0  \n",
              "3           0  \n",
              "4           0  \n",
              "...       ...  \n",
              "284802      0  \n",
              "284803      0  \n",
              "284804      0  \n",
              "284805      0  \n",
              "284806      0  \n",
              "\n",
              "[284807 rows x 31 columns]"
            ]
          },
          "execution_count": 7,
          "metadata": {},
          "output_type": "execute_result"
        }
      ],
      "source": [
        "card_data"
      ]
    },
    {
      "cell_type": "code",
      "execution_count": null,
      "metadata": {
        "id": "xlMekS-ho2Fv"
      },
      "outputs": [],
      "source": [
        "X=card_data.drop(\"Class\",axis=1)\n",
        "y=card_data.Class"
      ]
    },
    {
      "cell_type": "code",
      "execution_count": null,
      "metadata": {
        "colab": {
          "base_uri": "https://localhost:8080/"
        },
        "id": "YnQzlvImqsY6",
        "outputId": "c4c74f24-7774-46fe-c9b6-d25fee3da473"
      },
      "outputs": [
        {
          "data": {
            "text/plain": [
              "0         0\n",
              "1         0\n",
              "2         0\n",
              "3         0\n",
              "4         0\n",
              "         ..\n",
              "284802    0\n",
              "284803    0\n",
              "284804    0\n",
              "284805    0\n",
              "284806    0\n",
              "Name: Class, Length: 284807, dtype: int64"
            ]
          },
          "execution_count": 131,
          "metadata": {},
          "output_type": "execute_result"
        }
      ],
      "source": [
        "y"
      ]
    },
    {
      "cell_type": "code",
      "execution_count": null,
      "metadata": {
        "id": "IEX67PDlrMWZ"
      },
      "outputs": [],
      "source": [
        "X_train4, X_test4, y_train4, y_test4 = train_test_split(X, y, test_size=0.2, random_state=42)"
      ]
    },
    {
      "cell_type": "code",
      "execution_count": null,
      "metadata": {
        "id": "q6gBuGEMrQka"
      },
      "outputs": [],
      "source": [
        "tree_4 = tree.DecisionTreeClassifier()\n",
        "tree_4.fit(X_train4, y_train4)\n",
        "y_pred_tree_4 = tree_4.predict(X_test4)"
      ]
    },
    {
      "cell_type": "code",
      "execution_count": null,
      "metadata": {
        "id": "BHwzxmVqrz12"
      },
      "outputs": [],
      "source": [
        "accuracy_tree_4 = accuracy_score(y_test4, y_pred_tree_4)\n",
        "precision_tree_4 = precision_score(y_test4, y_pred_tree_4)\n",
        "recall_tree_4 = recall_score(y_test4, y_pred_tree_4)\n",
        "f1_tree_4 = f1_score(y_test4, y_pred_tree_4)"
      ]
    },
    {
      "cell_type": "code",
      "execution_count": null,
      "metadata": {
        "id": "lQTTUMjLsIAT"
      },
      "outputs": [],
      "source": [
        "knn_4 = KNeighborsClassifier()\n",
        "knn_4.fit(X_train4, y_train4)\n",
        "y_pred_knn_4 = knn_4.predict(X_test4)"
      ]
    },
    {
      "cell_type": "code",
      "execution_count": null,
      "metadata": {
        "id": "M8wzpWs0sUFc"
      },
      "outputs": [],
      "source": [
        "accuracy_knn_4 = accuracy_score(y_test4, y_pred_knn_4)\n",
        "precision_knn_4 = precision_score(y_test4, y_pred_knn_4)\n",
        "recall_knn_4 = recall_score(y_test4, y_pred_knn_4)\n",
        "f1_knn_4 = f1_score(y_test4, y_pred_knn_4)"
      ]
    },
    {
      "cell_type": "code",
      "execution_count": null,
      "metadata": {
        "colab": {
          "base_uri": "https://localhost:8080/"
        },
        "id": "p5-H-LBGtfH-",
        "outputId": "68ef3a6b-9314-46f3-afac-27aaed15f241"
      },
      "outputs": [
        {
          "name": "stderr",
          "output_type": "stream",
          "text": [
            "/usr/local/lib/python3.9/dist-packages/sklearn/linear_model/_logistic.py:458: ConvergenceWarning: lbfgs failed to converge (status=1):\n",
            "STOP: TOTAL NO. of ITERATIONS REACHED LIMIT.\n",
            "\n",
            "Increase the number of iterations (max_iter) or scale the data as shown in:\n",
            "    https://scikit-learn.org/stable/modules/preprocessing.html\n",
            "Please also refer to the documentation for alternative solver options:\n",
            "    https://scikit-learn.org/stable/modules/linear_model.html#logistic-regression\n",
            "  n_iter_i = _check_optimize_result(\n"
          ]
        }
      ],
      "source": [
        "lr_4 = linear_model.LogisticRegression()\n",
        "lr_4.fit(X_train4, y_train4)\n",
        "y_pred_lr_4 = lr_4.predict(X_test4)"
      ]
    },
    {
      "cell_type": "code",
      "execution_count": null,
      "metadata": {
        "id": "Aiz3-Reetxr7"
      },
      "outputs": [],
      "source": [
        "accuracy_lr_4 = accuracy_score(y_test4, y_pred_lr_4)\n",
        "precision_lr_4 = precision_score(y_test4, y_pred_lr_4)\n",
        "recall_lr_4 = recall_score(y_test4, y_pred_lr_4)\n",
        "f1_lr_4 = f1_score(y_test4, y_pred_lr_4)"
      ]
    },
    {
      "cell_type": "code",
      "source": [
        "cardsvm_linear = svm.SVC(kernel='linear')\n",
        "cardsvm_linear.fit(X_train4, y_train4)\n",
        "y_pred_linear_4 = cardsvm_linear.predict(X_test4)\n"
      ],
      "metadata": {
        "id": "cqIdYZcc06PE"
      },
      "execution_count": null,
      "outputs": []
    },
    {
      "cell_type": "code",
      "source": [
        "accuracy_linear_4 = accuracy_score(y_test4, y_pred_linear_4)\n",
        "precision_linear_4 = precision_score(y_test4, y_pred_linear_4, average='weighted')\n",
        "recall_linear_4 = recall_score(y_test4, y_pred_linear_4, average='weighted')\n",
        "f1_linear_4 = f1_score(y_test4, y_pred_linear_4, average='weighted')"
      ],
      "metadata": {
        "id": "bl8r-81c8xtW"
      },
      "execution_count": null,
      "outputs": []
    },
    {
      "cell_type": "code",
      "source": [
        "cardsvm_poly = svm.SVC(kernel='poly')\n",
        "cardsvm_poly.fit(X_train4, y_train4)\n",
        "y_pred_poly_4 = cardsvm_poly.predict(X_test4)"
      ],
      "metadata": {
        "id": "ME9wsjt68-Uq"
      },
      "execution_count": null,
      "outputs": []
    },
    {
      "cell_type": "code",
      "source": [
        "accuracy_poly_4 = accuracy_score(y_test4, y_pred_poly_3)\n",
        "precision_poly_4 = precision_score(y_test4, y_pred_poly_3, average='weighted')\n",
        "recall_poly_4 = recall_score(y_test4, y_pred_poly_4, average='weighted')\n",
        "f1_score_poly_4 = f1_score(y_test4, y_pred_poly_4, average='weighted')\n"
      ],
      "metadata": {
        "id": "9CK9Qyzq9JUF"
      },
      "execution_count": null,
      "outputs": []
    },
    {
      "cell_type": "code",
      "source": [
        "cardsvm_gaussian = svm.SVC(kernel='rbf')\n",
        "cardsvm_gaussian.fit(X_train4, y_train4)\n",
        "y_pred_gaussian_4 = cardsvm_gaussian.predict(X_test4)"
      ],
      "metadata": {
        "id": "jwdzB_8f9-qk"
      },
      "execution_count": null,
      "outputs": []
    },
    {
      "cell_type": "code",
      "source": [
        "accuracy_gaussian_4 = accuracy_score(y_test4, y_pred_gaussian_4)\n",
        "precision_gaussian_4 = precision_score(y_test4, y_pred_gaussian_4, average='weighted')\n",
        "recall_gaussian_4 = recall_score(y_test4, y_pred_gaussian_4, average='weighted')\n",
        "f1_score_gaussian_4 = f1_score(y_test4, y_pred_gaussian_4, average='weighted')"
      ],
      "metadata": {
        "id": "7Htu-LPO-OV9"
      },
      "execution_count": null,
      "outputs": []
    },
    {
      "cell_type": "code",
      "source": [
        "cardsvm_sigmoid = svm.SVC(kernel='sigmoid')\n",
        "cardsvm_sigmoid.fit(X_train4, y_train4)\n",
        "y_pred_sigmoid_4 = cardsvm_sigmoid.predict(X_test4)"
      ],
      "metadata": {
        "id": "_8Qe0xhH-ZBE"
      },
      "execution_count": null,
      "outputs": []
    },
    {
      "cell_type": "code",
      "source": [
        "accuracy_sigmoid_4 = accuracy_score(y_test4, y_pred_sigmoid_4)\n",
        "precision_sigmoid_4 = precision_score(y_test4, y_pred_sigmoid_4, average='weighted')\n",
        "recall_sigmoid_4 = recall_score(y_test4, y_pred_sigmoid_4, average='weighted')\n",
        "f1_score_sigmoid_4 = f1_score(y_test4, y_pred_sigmoid_4, average='weighted')"
      ],
      "metadata": {
        "id": "bKQIXoQp-nw0"
      },
      "execution_count": null,
      "outputs": []
    },
    {
      "cell_type": "code",
      "source": [
        "cardsvm_rbf = svm.SVC(kernel='rbf')\n",
        "cardsvm_rbf.fit(X_train4, y_train4)\n",
        "y_pred_rbf_4 = cardsvm_rbf.predict(X_test4)\n"
      ],
      "metadata": {
        "id": "Nq_Qjur2-uqm"
      },
      "execution_count": null,
      "outputs": []
    },
    {
      "cell_type": "code",
      "source": [],
      "metadata": {
        "id": "QczZFgQcGPIG"
      },
      "execution_count": null,
      "outputs": []
    },
    {
      "cell_type": "markdown",
      "metadata": {
        "id": "Ok7RGkea_b7n"
      },
      "source": [
        "#Finally,\n",
        "Save a copy in your Github. Remember renaming the notebook."
      ]
    }
  ],
  "metadata": {
    "colab": {
      "provenance": [],
      "include_colab_link": true
    },
    "kernelspec": {
      "display_name": "Python 3",
      "name": "python3"
    },
    "language_info": {
      "name": "python"
    }
  },
  "nbformat": 4,
  "nbformat_minor": 0
}